{
 "cells": [
  {
   "cell_type": "code",
   "execution_count": 1,
   "id": "f248aaf4",
   "metadata": {},
   "outputs": [],
   "source": [
    "import tensorflow as tf\n",
    "import numpy as np\n",
    "import matplotlib.pyplot as plt\n",
    "import tensorflow as tf\n",
    "import matplotlib.pyplot as plt\n",
    "import matplotlib.image as mpimg\n",
    "import numpy as np\n",
    "import os"
   ]
  },
  {
   "cell_type": "code",
   "execution_count": 2,
   "id": "05493a9c",
   "metadata": {},
   "outputs": [
    {
     "name": "stdout",
     "output_type": "stream",
     "text": [
      "There are 3 directories and 0 images in Rice_Image_Dataset\n",
      "There are 5 directories and 0 images in Rice_Image_Dataset\\Test\n",
      "There are 0 directories and 1500 images in Rice_Image_Dataset\\Test\\Arborio\n",
      "There are 0 directories and 1500 images in Rice_Image_Dataset\\Test\\Basmati\n",
      "There are 0 directories and 1500 images in Rice_Image_Dataset\\Test\\Ipsala\n",
      "There are 0 directories and 1500 images in Rice_Image_Dataset\\Test\\Jasmine\n",
      "There are 0 directories and 1500 images in Rice_Image_Dataset\\Test\\Karacadag\n",
      "There are 5 directories and 0 images in Rice_Image_Dataset\\Training\n",
      "There are 0 directories and 12000 images in Rice_Image_Dataset\\Training\\Arborio\n",
      "There are 0 directories and 12000 images in Rice_Image_Dataset\\Training\\Basmati\n",
      "There are 0 directories and 12000 images in Rice_Image_Dataset\\Training\\Ipsala\n",
      "There are 0 directories and 12000 images in Rice_Image_Dataset\\Training\\Jasmine\n",
      "There are 0 directories and 12000 images in Rice_Image_Dataset\\Training\\Karacadag\n",
      "There are 5 directories and 0 images in Rice_Image_Dataset\\Validation\n",
      "There are 0 directories and 1500 images in Rice_Image_Dataset\\Validation\\Arborio\n",
      "There are 0 directories and 1500 images in Rice_Image_Dataset\\Validation\\Basmati\n",
      "There are 0 directories and 1500 images in Rice_Image_Dataset\\Validation\\Ipsala\n",
      "There are 0 directories and 1500 images in Rice_Image_Dataset\\Validation\\Jasmine\n",
      "There are 0 directories and 1500 images in Rice_Image_Dataset\\Validation\\Karacadag\n"
     ]
    }
   ],
   "source": [
    "for dirpath,dirname,filenames in os.walk(\"Rice_Image_Dataset\"):\n",
    "    print(f\"There are {len(dirname)} directories and {len(filenames)} images in {dirpath}\")"
   ]
  },
  {
   "cell_type": "code",
   "execution_count": 3,
   "id": "8aa942a7",
   "metadata": {},
   "outputs": [],
   "source": [
    "#Setup Training,Test and Validation directories\n",
    "train_dir=\"./Rice_Image_Dataset/Training/\"\n",
    "test_dir=\"./Rice_Image_Dataset/Test/\"\n",
    "val_dir=\"./Rice_Image_Dataset/Validation/\""
   ]
  },
  {
   "cell_type": "code",
   "execution_count": 4,
   "id": "c9a17e09",
   "metadata": {},
   "outputs": [
    {
     "data": {
      "text/plain": [
       "array(['Arborio', 'Basmati', 'Ipsala', 'Jasmine', 'Karacadag'],\n",
       "      dtype='<U9')"
      ]
     },
     "execution_count": 4,
     "metadata": {},
     "output_type": "execute_result"
    }
   ],
   "source": [
    "#Let's get the class names\n",
    "import pathlib\n",
    "data_dir=pathlib.Path(train_dir)\n",
    "class_names=np.array(sorted([item.name for item in data_dir.glob('*') ]))\n",
    "class_names"
   ]
  },
  {
   "cell_type": "code",
   "execution_count": 5,
   "id": "76216c0d",
   "metadata": {},
   "outputs": [],
   "source": [
    "def view_random_image(target_dir,target_class):\n",
    "    target_folder=target_dir+target_class\n",
    "    \n",
    "    random_image=random.sample(os.listdir(target_folder),1)\n",
    "    \n",
    "    img=mpimg.imread(target_folder+\"/\"+random_image[0])\n",
    "    \n",
    "    plt.imshow(img)\n",
    "    \n",
    "    plt.axis('off')\n",
    "    \n",
    "    plt.title(target_class)\n",
    "    \n",
    "    print(f\"Image Shape:{img.shape}\")"
   ]
  },
  {
   "cell_type": "code",
   "execution_count": 6,
   "id": "6a3511af",
   "metadata": {},
   "outputs": [
    {
     "name": "stdout",
     "output_type": "stream",
     "text": [
      "Image Shape:(250, 250, 3)\n"
     ]
    },
    {
     "data": {
      "image/png": "[encoded data removed]",
      "text/plain": [
       "<Figure size 432x288 with 1 Axes>"
      ]
     },
     "metadata": {
      "needs_background": "light"
     },
     "output_type": "display_data"
    }
   ],
   "source": [
    "import random\n",
    "img=view_random_image(target_dir=train_dir,\n",
    "                     target_class=random.choice(class_names))\n"
   ]
  },
  {
   "cell_type": "code",
   "execution_count": 7,
   "id": "1a1a8976",
   "metadata": {},
   "outputs": [
    {
     "name": "stdout",
     "output_type": "stream",
     "text": [
      "Found 60000 images belonging to 5 classes.\n",
      "Found 7500 images belonging to 5 classes.\n",
      "Found 7500 images belonging to 5 classes.\n"
     ]
    }
   ],
   "source": [
    "from tensorflow.keras.preprocessing.image import ImageDataGenerator\n",
    "#Rescale\n",
    "train_datagen=ImageDataGenerator(rescale=1/255.)\n",
    "valid_datagen=ImageDataGenerator(rescale=1/255.)\n",
    "test_datagen=ImageDataGenerator(rescale=1/255.)\n",
    "#Load data\n",
    "train_data=train_datagen.flow_from_directory(train_dir,\n",
    "                                            batch_size=32,\n",
    "                                            target_size=(224,224),\n",
    "                                             class_mode='categorical')\n",
    "valid_data=valid_datagen.flow_from_directory(val_dir,\n",
    "                                          batch_size=32,\n",
    "                                          target_size=(224,224),\n",
    "                                          class_mode='categorical')\n",
    "test_data=test_datagen.flow_from_directory(val_dir,\n",
    "                                          batch_size=32,\n",
    "                                          target_size=(224,224),\n",
    "                                          class_mode='categorical')\n"
   ]
  },
  {
   "cell_type": "code",
   "execution_count": 8,
   "id": "e6a5ee2a",
   "metadata": {},
   "outputs": [],
   "source": [
    "#Creating the model\n",
    "model=tf.keras.models.Sequential([\n",
    "    tf.keras.layers.Conv2D(32,3,input_shape=(224,224,3),activation=\"relu\",padding=\"same\"),\n",
    "    tf.keras.layers.MaxPool2D(),\n",
    "    tf.keras.layers.BatchNormalization(),\n",
    "    tf.keras.layers.Conv2D(32,3,activation=\"relu\"),\n",
    "    tf.keras.layers.MaxPool2D(),\n",
    "    tf.keras.layers.BatchNormalization(),\n",
    "    tf.keras.layers.Conv2D(64,3,activation=\"relu\",padding=\"same\"),\n",
    "    tf.keras.layers.MaxPool2D(),\n",
    "    tf.keras.layers.BatchNormalization(),\n",
    "    tf.keras.layers.Conv2D(64,3,activation=\"relu\"),\n",
    "    tf.keras.layers.MaxPool2D(),\n",
    "    tf.keras.layers.Conv2D(128,3,activation=\"relu\",padding=\"same\"),\n",
    "    tf.keras.layers.MaxPool2D(),\n",
    "    tf.keras.layers.BatchNormalization(),\n",
    "    tf.keras.layers.Conv2D(128,3,activation=\"relu\"),\n",
    "    tf.keras.layers.MaxPool2D(),\n",
    "    tf.keras.layers.BatchNormalization(),\n",
    "    tf.keras.layers.Dropout(0.3),\n",
    "    tf.keras.layers.Flatten(),\n",
    "    tf.keras.layers.Dense(512,activation=\"relu\"),\n",
    "    tf.keras.layers.Dropout(0.3),\n",
    "    tf.keras.layers.Dense(256,activation=\"relu\"),\n",
    "    tf.keras.layers.Dropout(0.2),\n",
    "    tf.keras.layers.Dense(5,activation=\"softmax\")\n",
    "])\n",
    "\n",
    "#Compile the model\n",
    "model.compile(loss=\"categorical_crossentropy\",\n",
    "               optimizer=tf.keras.optimizers.Adam(learning_rate=0.00001),\n",
    "               metrics=['accuracy'])\n"
   ]
  },
  {
   "cell_type": "code",
   "execution_count": 9,
   "id": "114db83d",
   "metadata": {},
   "outputs": [
    {
     "name": "stdout",
     "output_type": "stream",
     "text": [
      "Epoch 1/50\n",
      "1875/1875 [==============================] - 197s 103ms/step - loss: 0.5863 - accuracy: 0.7734 - val_loss: 0.5938 - val_accuracy: 0.7979\n",
      "Epoch 2/50\n",
      "1875/1875 [==============================] - 64s 34ms/step - loss: 0.1169 - accuracy: 0.9636 - val_loss: 0.4803 - val_accuracy: 0.8489\n",
      "Epoch 3/50\n",
      "1875/1875 [==============================] - 64s 34ms/step - loss: 0.0599 - accuracy: 0.9807 - val_loss: 0.2269 - val_accuracy: 0.9229\n",
      "Epoch 4/50\n",
      "1875/1875 [==============================] - 64s 34ms/step - loss: 0.0407 - accuracy: 0.9873 - val_loss: 0.1500 - val_accuracy: 0.9480\n",
      "Epoch 5/50\n",
      "1875/1875 [==============================] - 63s 34ms/step - loss: 0.0325 - accuracy: 0.9893 - val_loss: 0.0800 - val_accuracy: 0.9736\n",
      "Epoch 6/50\n",
      "1875/1875 [==============================] - 64s 34ms/step - loss: 0.0264 - accuracy: 0.9917 - val_loss: 0.0494 - val_accuracy: 0.9837\n",
      "Epoch 7/50\n",
      "1875/1875 [==============================] - 64s 34ms/step - loss: 0.0214 - accuracy: 0.9933 - val_loss: 0.0937 - val_accuracy: 0.9708\n",
      "Epoch 8/50\n",
      "1875/1875 [==============================] - 65s 35ms/step - loss: 0.0199 - accuracy: 0.9937 - val_loss: 0.0746 - val_accuracy: 0.9769\n",
      "Epoch 9/50\n",
      "1875/1875 [==============================] - 64s 34ms/step - loss: 0.0167 - accuracy: 0.9946 - val_loss: 0.0655 - val_accuracy: 0.9791\n",
      "Epoch 10/50\n",
      "1875/1875 [==============================] - 64s 34ms/step - loss: 0.0134 - accuracy: 0.9955 - val_loss: 0.0533 - val_accuracy: 0.9840\n",
      "Epoch 11/50\n",
      "1875/1875 [==============================] - 64s 34ms/step - loss: 0.0134 - accuracy: 0.9953 - val_loss: 0.0420 - val_accuracy: 0.9863\n",
      "Epoch 12/50\n",
      "1875/1875 [==============================] - 64s 34ms/step - loss: 0.0112 - accuracy: 0.9962 - val_loss: 0.0569 - val_accuracy: 0.9817\n",
      "Epoch 13/50\n",
      "1875/1875 [==============================] - 65s 34ms/step - loss: 0.0100 - accuracy: 0.9966 - val_loss: 0.0529 - val_accuracy: 0.9824\n",
      "Epoch 14/50\n",
      "1875/1875 [==============================] - 65s 34ms/step - loss: 0.0089 - accuracy: 0.9970 - val_loss: 0.0502 - val_accuracy: 0.9847\n",
      "Epoch 15/50\n",
      "1875/1875 [==============================] - 65s 34ms/step - loss: 0.0080 - accuracy: 0.9972 - val_loss: 0.0594 - val_accuracy: 0.9813\n",
      "Epoch 16/50\n",
      "1875/1875 [==============================] - 64s 34ms/step - loss: 0.0069 - accuracy: 0.9977 - val_loss: 0.0412 - val_accuracy: 0.9871\n",
      "Epoch 17/50\n",
      "1875/1875 [==============================] - 65s 34ms/step - loss: 0.0066 - accuracy: 0.9979 - val_loss: 0.1499 - val_accuracy: 0.9583\n",
      "Epoch 18/50\n",
      "1875/1875 [==============================] - 64s 34ms/step - loss: 0.0056 - accuracy: 0.9980 - val_loss: 0.0423 - val_accuracy: 0.9871\n",
      "Epoch 19/50\n",
      "1875/1875 [==============================] - 65s 34ms/step - loss: 0.0055 - accuracy: 0.9982 - val_loss: 0.0478 - val_accuracy: 0.9855\n",
      "Epoch 20/50\n",
      "1875/1875 [==============================] - 64s 34ms/step - loss: 0.0057 - accuracy: 0.9981 - val_loss: 0.0306 - val_accuracy: 0.9912\n",
      "Epoch 21/50\n",
      "1875/1875 [==============================] - 65s 34ms/step - loss: 0.0047 - accuracy: 0.9984 - val_loss: 0.0429 - val_accuracy: 0.9876\n",
      "Epoch 22/50\n",
      "1875/1875 [==============================] - 65s 35ms/step - loss: 0.0039 - accuracy: 0.9988 - val_loss: 0.0387 - val_accuracy: 0.9881\n",
      "Epoch 23/50\n",
      "1875/1875 [==============================] - 64s 34ms/step - loss: 0.0043 - accuracy: 0.9985 - val_loss: 0.0559 - val_accuracy: 0.9851\n",
      "Epoch 24/50\n",
      "1875/1875 [==============================] - 64s 34ms/step - loss: 0.0039 - accuracy: 0.9987 - val_loss: 0.0377 - val_accuracy: 0.9891\n",
      "Epoch 25/50\n",
      "1875/1875 [==============================] - 65s 34ms/step - loss: 0.0032 - accuracy: 0.9989 - val_loss: 0.0355 - val_accuracy: 0.9895\n"
     ]
    }
   ],
   "source": [
    "#Creating early stopping callback\n",
    "callback = tf.keras.callbacks.EarlyStopping(patience=5,monitor='val_loss',restore_best_weights=True)\n",
    "\n",
    "#Fit the model\n",
    "history=model.fit(train_data,\n",
    "                     epochs=50,\n",
    "                     steps_per_epoch=len(train_data),\n",
    "                     validation_data=valid_data,\n",
    "                     validation_steps=len(valid_data),\n",
    "                 callbacks=[callback])"
   ]
  },
  {
   "cell_type": "code",
   "execution_count": 10,
   "id": "00f2e32f",
   "metadata": {},
   "outputs": [],
   "source": [
    "def plot_loss_curves(history):\n",
    "    loss=history.history['loss']\n",
    "    val_loss=history.history['val_loss']\n",
    "    accuracy=history.history['accuracy']\n",
    "    val_accuracy=history.history['val_accuracy']\n",
    "    epochs=range(len(history.history['loss']))\n",
    "    #Plot loss\n",
    "    plt.plot(epochs,loss,label=\"Training loss\")\n",
    "    plt.plot(epochs,val_loss,label=\"Validation loss\")\n",
    "    plt.title(\"Loss\")\n",
    "    plt.xlabel(\"epochs\")\n",
    "    plt.legend()\n",
    "    \n",
    "    #Plot accuracy\n",
    "    plt.figure()\n",
    "    plt.plot(epochs,accuracy,label=\"Training accuracy\")\n",
    "    plt.plot(epochs,val_accuracy,label=\"Validation accuracy\")\n",
    "    plt.title(\"Accuracy\")\n",
    "    plt.xlabel(\"epochs\")\n",
    "    plt.legend()"
   ]
  },
  {
   "cell_type": "code",
   "execution_count": 11,
   "id": "37854903",
   "metadata": {},
   "outputs": [
    {
     "data": {
      "image/png": "[encoded data removed]",
      "text/plain": [
       "<Figure size 432x288 with 1 Axes>"
      ]
     },
     "metadata": {
      "needs_background": "light"
     },
     "output_type": "display_data"
    },
    {
     "data": {
      "image/png": "[encoded data removed]",
      "text/plain": [
       "<Figure size 432x288 with 1 Axes>"
      ]
     },
     "metadata": {
      "needs_background": "light"
     },
     "output_type": "display_data"
    }
   ],
   "source": [
    "plot_loss_curves(history)"
   ]
  },
  {
   "cell_type": "code",
   "execution_count": 12,
   "id": "60d0f28f",
   "metadata": {},
   "outputs": [
    {
     "name": "stdout",
     "output_type": "stream",
     "text": [
      "235/235 [==============================] - 7s 29ms/step - loss: 0.0306 - accuracy: 0.9912\n"
     ]
    },
    {
     "data": {
      "text/plain": [
       "[0.030623111873865128, 0.9911999702453613]"
      ]
     },
     "execution_count": 12,
     "metadata": {},
     "output_type": "execute_result"
    }
   ],
   "source": [
    "model.evaluate(test_data)"
   ]
  },
  {
   "cell_type": "code",
   "execution_count": 13,
   "id": "89868ffc",
   "metadata": {},
   "outputs": [],
   "source": [
    "model.save('rice_model.h5')"
   ]
  },
  {
   "cell_type": "code",
   "execution_count": null,
   "id": "e56f8af9",
   "metadata": {},
   "outputs": [],
   "source": []
  },
  {
   "cell_type": "code",
   "execution_count": null,
   "id": "f1abcdc7",
   "metadata": {},
   "outputs": [],
   "source": []
  }
 ],
 "metadata": {
  "kernelspec": {
   "display_name": "Python 3 (ipykernel)",
   "language": "python",
   "name": "python3"
  },
  "language_info": {
   "codemirror_mode": {
    "name": "ipython",
    "version": 3
   },
   "file_extension": ".py",
   "mimetype": "text/x-python",
   "name": "python",
   "nbconvert_exporter": "python",
   "pygments_lexer": "ipython3",
   "version": "3.9.7"
  }
 },
 "nbformat": 4,
 "nbformat_minor": 5
}
